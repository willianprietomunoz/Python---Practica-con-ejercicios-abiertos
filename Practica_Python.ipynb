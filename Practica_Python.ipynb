{
  "nbformat": 4,
  "nbformat_minor": 0,
  "metadata": {
    "colab": {
      "provenance": [],
      "authorship_tag": "ABX9TyN417PIdDFxxK5aYJQ7DMuQ",
      "include_colab_link": true
    },
    "kernelspec": {
      "name": "python3",
      "display_name": "Python 3"
    },
    "language_info": {
      "name": "python"
    }
  },
  "cells": [
    {
      "cell_type": "markdown",
      "metadata": {
        "id": "view-in-github",
        "colab_type": "text"
      },
      "source": [
        "<a href=\"https://colab.research.google.com/github/willianprietomunoz/Python---Practica-con-ejercicios-abiertos/blob/main/Practica_Python.ipynb\" target=\"_parent\"><img src=\"https://colab.research.google.com/assets/colab-badge.svg\" alt=\"Open In Colab\"/></a>"
      ]
    },
    {
      "cell_type": "markdown",
      "source": [
        "#Ejercicio No. 1 - Ejercicios abiertos en Python\n",
        "\n",
        "1) Una aplicación web requiere que los usuarios introduzcan un username y\n",
        "password para registrarse. Escribe un programa que verifique la validez del\n",
        "password introducido por los usuarios. El criterio para validar el password es el\n",
        "siguiente:\n",
        "\n",
        "\n",
        "```ç\n",
        "● Debe contener al menos una letra entre [a-z]\n",
        "● Debe contener al menos un número [0-9]\n",
        "● Debe contener al menos una letra [A-Z]\n",
        "● Debe tener una longitud mínina de 6\n",
        "● Debe tener una longitud máxima de 12\n",
        "\n",
        "```\n",
        "\n",
        "Se solicitará al usuario que introduzca el número de contraseñas que se\n",
        "quiere validar. El programa luego debe solicitar tantas password como número\n",
        "introducido por el usuario. Los password válidos se deberán imprimir por\n",
        "pantalla, y ser escritos en un fichero de texto.\n",
        "Ideas:\n",
        "\n",
        "\n",
        "```\n",
        "● Controlar los posibles errores\n",
        "● Usar funciones\n",
        "```\n",
        "\n",
        "\n"
      ],
      "metadata": {
        "id": "-vcMqNbjmTCT"
      }
    },
    {
      "cell_type": "code",
      "execution_count": null,
      "metadata": {
        "id": "bi6ydu1kbEDu"
      },
      "outputs": [],
      "source": [
        "import re\n",
        "\n",
        "def verificar_contrasena(contrasena):\n",
        "    # Verifica longitud\n",
        "    if len(contrasena) < 6 or len(contrasena) > 12:\n",
        "        return False\n",
        "\n",
        "    # Verifica al menos una letra minuscula\n",
        "    if not re.search('[a-z]', contrasena):\n",
        "        return False\n",
        "\n",
        "    # Verifica al menos una letra mayuscula\n",
        "    if not re.search('[A-Z]', contrasena):\n",
        "        return False\n",
        "\n",
        "    # Verificar al menos un numero\n",
        "    if not re.search('[0-9]', contrasena):\n",
        "        return False\n",
        "\n",
        "    # La contraseña cumple con todos los requisitos\n",
        "    return True"
      ]
    },
    {
      "cell_type": "code",
      "source": [
        "contrasenas_validas = []  # Lista para almacenar las contraseñas validas\n",
        "\n",
        "for i in range(3):\n",
        "    contrasena = input(\"Ingrese una contraseña: \")\n",
        "\n",
        "    if verificar_contrasena(contrasena):\n",
        "        contrasenas_validas.append(contrasena)  # Agregar a la lista de contraseñas validas\n"
      ],
      "metadata": {
        "colab": {
          "base_uri": "https://localhost:8080/"
        },
        "id": "pDD-xQZObMQv",
        "outputId": "a90e99b6-bb23-4ca0-89ac-78f23aaab5ff"
      },
      "execution_count": null,
      "outputs": [
        {
          "name": "stdout",
          "output_type": "stream",
          "text": [
            "Ingrese una contraseña: Peru123\n",
            "Ingrese una contraseña: Colombia\n",
            "Ingrese una contraseña: CoLoMbIa$\n"
          ]
        }
      ]
    },
    {
      "cell_type": "code",
      "source": [
        "if verificar_contrasena(contrasena):\n",
        "        contrasenas_validas.append(contrasena)  # Agregar a la lista de contraseñas validas\n",
        "\n",
        "# Imprimir las contraseñas válidas encontradas\n",
        "print(\"Contraseñas validas:\")\n",
        "for contrasena in contrasenas_validas:\n",
        "    print(contrasena)"
      ],
      "metadata": {
        "colab": {
          "base_uri": "https://localhost:8080/"
        },
        "id": "MSOxvgzFgDm0",
        "outputId": "6ec7bc1d-a5ed-4cc2-c8e5-c499e88a507b"
      },
      "execution_count": null,
      "outputs": [
        {
          "output_type": "stream",
          "name": "stdout",
          "text": [
            "Contraseñas validas:\n",
            "Peru123\n",
            "Peru123\n"
          ]
        }
      ]
    },
    {
      "cell_type": "code",
      "source": [
        "# Exportar las contraseñas validas a un archivo .txt\n",
        "nombre_archivo = \"contrasenas_validas.txt\"\n",
        "with open(nombre_archivo, \"w\") as archivo:\n",
        "    for contrasena in contrasenas_validas:\n",
        "        archivo.write(contrasena + \"\\n\")\n",
        "\n",
        "print(\"Las contraseñas válidas se han exportado al archivo\", nombre_archivo)"
      ],
      "metadata": {
        "colab": {
          "base_uri": "https://localhost:8080/"
        },
        "id": "-2-AVJfKgzv5",
        "outputId": "10e4c260-fd99-40a7-fba2-23573b400271"
      },
      "execution_count": null,
      "outputs": [
        {
          "output_type": "stream",
          "name": "stdout",
          "text": [
            "Las contraseñas válidas se han exportado al archivo contrasenas_validas.txt\n"
          ]
        }
      ]
    },
    {
      "cell_type": "markdown",
      "source": [
        "#Ejercicio No. 2 - Ejercicios abiertos en Python\n",
        "\n",
        "Escribe una función con argumentos a y b, que calcule la cantidad total\n",
        "obtenida al contratar un depósito bancario por 1000€ durante a años con una\n",
        "tasa b de interés. ¿Cuál es el resultado para a = 10 y b = 10?\n",
        "\n"
      ],
      "metadata": {
        "id": "7PqihOe2mx90"
      }
    },
    {
      "cell_type": "code",
      "source": [
        "def calcular_cantidad_total(A, B):\n",
        "    principal = 1000  # 1000 euros\n",
        "    tasa_interes = B / 100  # Tasa de interes a decimal\n",
        "\n",
        "    # Calcula la cantidad total con forula de interes compuesto\n",
        "    cantidad_total = principal * (1 + tasa_interes) ** A\n",
        "\n",
        "    return cantidad_total"
      ],
      "metadata": {
        "id": "46dP_dxFoDvx"
      },
      "execution_count": null,
      "outputs": []
    },
    {
      "cell_type": "code",
      "source": [
        "A = 10\n",
        "B = 10"
      ],
      "metadata": {
        "id": "8kRb2pVuqhYW"
      },
      "execution_count": null,
      "outputs": []
    },
    {
      "cell_type": "code",
      "source": [
        "resultado = calcular_cantidad_total(A, B)\n",
        "print(f\"La cantidad total obtenida despues de {A} años al contratar un deposito bancario es de {resultado:.2f} euros.\")"
      ],
      "metadata": {
        "colab": {
          "base_uri": "https://localhost:8080/"
        },
        "id": "e2uzu4DJqtkL",
        "outputId": "bb8532da-320a-40bb-aae3-5a8c8475e1cb"
      },
      "execution_count": null,
      "outputs": [
        {
          "output_type": "stream",
          "name": "stdout",
          "text": [
            "La cantidad total obtenida despues de 10 años al contratar un deposito bancario es de 2593.74 euros.\n"
          ]
        }
      ]
    },
    {
      "cell_type": "markdown",
      "source": [
        "#Ejercicio No. 3 - Ejercicios abiertos en Python\n",
        "\n",
        "Escribe una función que acepta un string y calcula el número de mayúsculas y\n",
        "minúsculas que tiene."
      ],
      "metadata": {
        "id": "-OQA7hwHs8Ea"
      }
    },
    {
      "cell_type": "code",
      "source": [
        "def contar_mayusculas_minusculas(texto):\n",
        "    mayusculas = 0\n",
        "    minusculas = 0\n",
        "\n",
        "    for caracter in texto:\n",
        "        if caracter.isupper():\n",
        "            mayusculas += 1 # Aumenta mayusculas\n",
        "        elif caracter.islower():\n",
        "            minusculas += 1 # Aumenta minusculas\n",
        "\n",
        "    return mayusculas, minusculas"
      ],
      "metadata": {
        "id": "m6pWyl8-tWPw"
      },
      "execution_count": null,
      "outputs": []
    },
    {
      "cell_type": "code",
      "source": [
        "texto = \"Externo Cleido Mastoideo\""
      ],
      "metadata": {
        "id": "Za0jgr16xWaj"
      },
      "execution_count": null,
      "outputs": []
    },
    {
      "cell_type": "code",
      "source": [
        "mayus, minus = contar_mayusculas_minusculas(texto)\n",
        "print(\"Numero de mayusculas:\", mayus)\n",
        "print(\"Numero de minusculas:\", minus)"
      ],
      "metadata": {
        "colab": {
          "base_uri": "https://localhost:8080/"
        },
        "id": "FJuesANHxxqP",
        "outputId": "bc6cf766-177d-4184-8a7d-4f281dc6884d"
      },
      "execution_count": null,
      "outputs": [
        {
          "output_type": "stream",
          "name": "stdout",
          "text": [
            "Numero de mayusculas: 3\n",
            "Numero de minusculas: 19\n"
          ]
        }
      ]
    },
    {
      "cell_type": "markdown",
      "source": [
        "#Ejercicio No. 4 - Ejercicios abiertos en Python\n",
        "\n",
        "Cada nuevo término de la serie de Fibonacci se genera sumando los dos\n",
        "términos previos de la secuencia. Empezando por 1 y 2, los primeros 10\n",
        "términos serán:\n",
        "1, 2, 3, 5, 8, 13, 21, 34, 55, 89\n",
        "Considerando sólo los términos en la series de Fibonacci cuyo valor no\n",
        "excede de cuatro millones, encuentre la suma de los valore pares."
      ],
      "metadata": {
        "id": "gdY6UJ5NyNCD"
      }
    },
    {
      "cell_type": "code",
      "source": [
        "def sumar_pares_fibonacci(limite):\n",
        "    # Variables iniciales\n",
        "    fib_suma = 0\n",
        "    fib_previo = 0\n",
        "    fib_actual = 1\n",
        "\n",
        "    while fib_actual <= limite:\n",
        "        if fib_actual % 2 == 0:\n",
        "            fib_suma += fib_actual\n",
        "\n",
        "        # Generar siguiente término de Fibonacci\n",
        "        fib_siguiente = fib_previo + fib_actual\n",
        "        fib_previo = fib_actual\n",
        "        fib_actual = fib_siguiente\n",
        "\n",
        "    return fib_suma"
      ],
      "metadata": {
        "id": "5lQRvHNeyTzc"
      },
      "execution_count": null,
      "outputs": []
    },
    {
      "cell_type": "code",
      "source": [
        "limite = 4000000\n",
        "resultado = sumar_pares_fibonacci(limite)\n",
        "print(f\"La suma de los valores pares en la serie de Fibonacci hasta {limite} es: {resultado}\")"
      ],
      "metadata": {
        "colab": {
          "base_uri": "https://localhost:8080/"
        },
        "id": "RXLjOH6zFJiz",
        "outputId": "968cc5a2-44a8-42dc-8c42-738bb2ff595d"
      },
      "execution_count": null,
      "outputs": [
        {
          "output_type": "stream",
          "name": "stdout",
          "text": [
            "La suma de los valores pares en la serie de Fibonacci hasta 4000000 es: 4613732\n"
          ]
        }
      ]
    }
  ]
}